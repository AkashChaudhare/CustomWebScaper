{
 "cells": [
  {
   "cell_type": "markdown",
   "id": "af53e653",
   "metadata": {},
   "source": [
    "## Final Program"
   ]
  },
  {
   "cell_type": "code",
   "execution_count": 1,
   "id": "75f6e4fc",
   "metadata": {},
   "outputs": [],
   "source": [
    "from bs4 import BeautifulSoup as bbb\n",
    "import requests\n",
    "import csv\n",
    "source=requests.get('https://coreyms.com/').text\n",
    "soup=bbb(source,'lxml')"
   ]
  },
  {
   "cell_type": "code",
   "execution_count": 2,
   "id": "18913332",
   "metadata": {},
   "outputs": [
    {
     "data": {
      "text/plain": [
       "23"
      ]
     },
     "execution_count": 2,
     "metadata": {},
     "output_type": "execute_result"
    }
   ],
   "source": [
    "csv_file=open('webscrape.csv','w',newline='')\n",
    "csv_writer=csv.writer(csv_file)\n",
    "csv_writer.writerow(['Headline','Summary','Link'])"
   ]
  },
  {
   "cell_type": "code",
   "execution_count": 3,
   "id": "1278fcae",
   "metadata": {},
   "outputs": [
    {
     "name": "stdout",
     "output_type": "stream",
     "text": [
      "Python Tutorial: Zip Files – Creating and Extracting Zip Archives\n",
      "In this video, we will be learning how to create and extract zip archives. We will start by using the zipfile module, and then we will see how to do this using the shutil module. We will learn how to do this with single files and directories, as well as learning how to use gzip as well. Let’s get started…\n",
      "https://youtube.com/watch?v=z0gguhEmWiY\n",
      "-----------------------------------------------\n",
      "Python Data Science Tutorial: Analyzing the 2019 Stack Overflow Developer Survey\n",
      "In this Python Programming video, we will be learning how to download and analyze real-world data from the 2019 Stack Overflow Developer Survey. This is terrific practice for anyone getting into the data science field. We will learn different ways to analyze this data and also some best practices. Let’s get started…\n",
      "https://youtube.com/watch?v=_P7X8tMplsw\n",
      "-----------------------------------------------\n",
      "Python Multiprocessing Tutorial: Run Code in Parallel Using the Multiprocessing Module\n",
      "In this Python Programming video, we will be learning how to run code in parallel using the multiprocessing module. We will also look at how to process multiple high-resolution images at the same time using a ProcessPoolExecutor from the concurrent.futures module. Let’s get started…\n",
      "https://youtube.com/watch?v=fKl2JW_qrso\n",
      "-----------------------------------------------\n",
      "Python Threading Tutorial: Run Code Concurrently Using the Threading Module\n",
      "In this Python Programming video, we will be learning how to run threads concurrently using the threading module. We will also look at how to download multiple high-resolution images online using a ThreadPoolExecutor from the concurrent.futures module. Let’s get started…\n",
      "https://youtube.com/watch?v=IEEhzQoKtQU\n",
      "-----------------------------------------------\n",
      "Update (2019-09-03)\n",
      "Hey everyone. I wanted to give you an update on my videos. I will be releasing videos on threading and multiprocessing within the next week. Thanks so much for your patience. I currently have a temporary recording studio setup at my Airbnb that will allow me to record and edit the threading/multiprocessing videos. I am going to be moving into my new house in 10 days and once I have my recording studio setup then you can expect much faster video releases. I really appreciate how patient everyone has been while I go through this move, especially those of you who are contributing monthly through YouTube \n",
      "https://youtube.com/watch?v=IEEhzQoKtQU\n",
      "-----------------------------------------------\n",
      "Python Quick Tip: The Difference Between “==” and “is” (Equality vs Identity)\n",
      "In this Python Programming Tutorial, we will be learning the difference between using “==” and the “is” keyword when doing comparisons. The difference between these is that “==” checks to see if values are equal, and the “is” keyword checks their identity, which means it’s going to check if the values are identical in terms of being the same object in memory. We’ll learn more in the video. Let’s get started…\n",
      "https://youtube.com/watch?v=mO_dS3rXDIs\n",
      "-----------------------------------------------\n",
      "Python Tutorial: Calling External Commands Using the Subprocess Module\n",
      "In this Python Programming Tutorial, we will be learning how to run external commands using the subprocess module from the standard library. We will learn how to run commands, capture the output, handle errors, and also how to pipe output into other commands. Let’s get started…\n",
      "https://youtube.com/watch?v=2Fp1N6dof0Y\n",
      "-----------------------------------------------\n",
      "Visual Studio Code (Windows) – Setting up a Python Development Environment and Complete Overview\n",
      "In this Python Programming Tutorial, we will be learning how to set up a Python development environment in VSCode on Windows. VSCode is a very nice free editor for writing Python applications and many developers are now switching over to this editor. In this video, we will learn how to install VSCode, get the Python extension installed, how to change Python interpreters, create virtual environments, format/lint our code, how to use Git within VSCode, how to debug our programs, how unit testing works, and more. We have a lot to cover, so let’s go ahead and get started…\n",
      "https://youtube.com/watch?v=-nh9rCzPJ20\n",
      "-----------------------------------------------\n",
      "Visual Studio Code (Mac) – Setting up a Python Development Environment and Complete Overview\n",
      "In this Python Programming Tutorial, we will be learning how to set up a Python development environment in VSCode on MacOS. VSCode is a very nice free editor for writing Python applications and many developers are now switching over to this editor. In this video, we will learn how to install VSCode, get the Python extension installed, how to change Python interpreters, create virtual environments, format/lint our code, how to use Git within VSCode, how to debug our programs, how unit testing works, and more. We have a lot to cover, so let’s go ahead and get started…\n",
      "https://youtube.com/watch?v=06I63_p-2A4\n",
      "-----------------------------------------------\n",
      "Clarifying the Issues with Mutable Default Arguments\n",
      "In this Python Programming Tutorial, we will be clarifying the issues with mutable default arguments. We discussed this in my last video titled “5 Common Python Mistakes and How to Fix Them”, but I received many comments from people who were still confused. So we will be doing a deeper dive to explain exactly what is going on here. Let’s get started…\n",
      "https://youtube.com/watch?v=_JGmemuINww\n",
      "-----------------------------------------------\n"
     ]
    }
   ],
   "source": [
    "for article in soup.find_all('article'):\n",
    "    try:\n",
    "        headline=article.h2.a.text\n",
    "        summary=article.find('div',class_='entry-content').p.text\n",
    "        link=article.find('iframe',class_='youtube-player')['src']\n",
    "        vid_id=link.split('/')\n",
    "        vid_id=vid_id[4].split('?')[0]\n",
    "        yt_link=f'https://youtube.com/watch?v={vid_id}'\n",
    "    except:\n",
    "        pass\n",
    "\n",
    "    print(headline)\n",
    "    print(summary)\n",
    "    print(yt_link)\n",
    "    print('-----------------------------------------------')\n",
    "    csv_writer.writerow([headline,summary,yt_link])\n",
    "csv_file.close()"
   ]
  },
  {
   "cell_type": "code",
   "execution_count": null,
   "id": "992b39ec",
   "metadata": {},
   "outputs": [],
   "source": []
  },
  {
   "cell_type": "code",
   "execution_count": 4,
   "id": "66c885b9",
   "metadata": {},
   "outputs": [
    {
     "name": "stdout",
     "output_type": "stream",
     "text": [
      "Headline,Summary,Link\n",
      "\n",
      "Python Tutorial: Zip Files – Creating and Extracting Zip Archives,\"In this video, we will be learning how to create and extract zip archives. We will start by using the zipfile module, and then we will see how to do this using the shutil module. We will learn how to do this with single files and directories, as well as learning how to use gzip as well. Let’s get started…\",https://youtube.com/watch?v=z0gguhEmWiY\n",
      "\n",
      "Python Data Science Tutorial: Analyzing the 2019 Stack Overflow Developer Survey,\"In this Python Programming video, we will be learning how to download and analyze real-world data from the 2019 Stack Overflow Developer Survey. This is terrific practice for anyone getting into the data science field. We will learn different ways to analyze this data and also some best practices. Let’s get started…\",https://youtube.com/watch?v=_P7X8tMplsw\n",
      "\n",
      "Python Multiprocessing Tutorial: Run Code in Parallel Using the Multiprocessing Module,\"In this Python Programming video, we will be learning how to run code in parallel using the multiprocessing module. We will also look at how to process multiple high-resolution images at the same time using a ProcessPoolExecutor from the concurrent.futures module. Let’s get started…\",https://youtube.com/watch?v=fKl2JW_qrso\n",
      "\n",
      "Python Threading Tutorial: Run Code Concurrently Using the Threading Module,\"In this Python Programming video, we will be learning how to run threads concurrently using the threading module. We will also look at how to download multiple high-resolution images online using a ThreadPoolExecutor from the concurrent.futures module. Let’s get started…\",https://youtube.com/watch?v=IEEhzQoKtQU\n",
      "\n",
      "Update (2019-09-03),\"Hey everyone. I wanted to give you an update on my videos. I will be releasing videos on threading and multiprocessing within the next week. Thanks so much for your patience. I currently have a temporary recording studio setup at my Airbnb that will allow me to record and edit the threading/multiprocessing videos. I am going to be moving into my new house in 10 days and once I have my recording studio setup then you can expect much faster video releases. I really appreciate how patient everyone has been while I go through this move, especially those of you who are contributing monthly through YouTube \",https://youtube.com/watch?v=IEEhzQoKtQU\n",
      "\n",
      "Python Quick Tip: The Difference Between “==” and “is” (Equality vs Identity),\"In this Python Programming Tutorial, we will be learning the difference between using “==” and the “is” keyword when doing comparisons. The difference between these is that “==” checks to see if values are equal, and the “is” keyword checks their identity, which means it’s going to check if the values are identical in terms of being the same object in memory. We’ll learn more in the video. Let’s get started…\",https://youtube.com/watch?v=mO_dS3rXDIs\n",
      "\n",
      "Python Tutorial: Calling External Commands Using the Subprocess Module,\"In this Python Programming Tutorial, we will be learning how to run external commands using the subprocess module from the standard library. We will learn how to run commands, capture the output, handle errors, and also how to pipe output into other commands. Let’s get started…\",https://youtube.com/watch?v=2Fp1N6dof0Y\n",
      "\n",
      "Visual Studio Code (Windows) – Setting up a Python Development Environment and Complete Overview,\"In this Python Programming Tutorial, we will be learning how to set up a Python development environment in VSCode on Windows. VSCode is a very nice free editor for writing Python applications and many developers are now switching over to this editor. In this video, we will learn how to install VSCode, get the Python extension installed, how to change Python interpreters, create virtual environments, format/lint our code, how to use Git within VSCode, how to debug our programs, how unit testing works, and more. We have a lot to cover, so let’s go ahead and get started…\",https://youtube.com/watch?v=-nh9rCzPJ20\n",
      "\n",
      "Visual Studio Code (Mac) – Setting up a Python Development Environment and Complete Overview,\"In this Python Programming Tutorial, we will be learning how to set up a Python development environment in VSCode on MacOS. VSCode is a very nice free editor for writing Python applications and many developers are now switching over to this editor. In this video, we will learn how to install VSCode, get the Python extension installed, how to change Python interpreters, create virtual environments, format/lint our code, how to use Git within VSCode, how to debug our programs, how unit testing works, and more. We have a lot to cover, so let’s go ahead and get started…\",https://youtube.com/watch?v=06I63_p-2A4\n",
      "\n",
      "Clarifying the Issues with Mutable Default Arguments,\"In this Python Programming Tutorial, we will be clarifying the issues with mutable default arguments. We discussed this in my last video titled “5 Common Python Mistakes and How to Fix Them”, but I received many comments from people who were still confused. So we will be doing a deeper dive to explain exactly what is going on here. Let’s get started…\",https://youtube.com/watch?v=_JGmemuINww\n",
      "\n"
     ]
    }
   ],
   "source": [
    "with open('webscrape.csv','r') as file:    #as in csv file\n",
    "    for i in file:\n",
    "        print(i)"
   ]
  },
  {
   "cell_type": "code",
   "execution_count": null,
   "id": "5c41d585",
   "metadata": {},
   "outputs": [],
   "source": []
  }
 ],
 "metadata": {
  "kernelspec": {
   "display_name": "Python 3",
   "language": "python",
   "name": "python3"
  },
  "language_info": {
   "codemirror_mode": {
    "name": "ipython",
    "version": 3
   },
   "file_extension": ".py",
   "mimetype": "text/x-python",
   "name": "python",
   "nbconvert_exporter": "python",
   "pygments_lexer": "ipython3",
   "version": "3.8.8"
  }
 },
 "nbformat": 4,
 "nbformat_minor": 5
}
